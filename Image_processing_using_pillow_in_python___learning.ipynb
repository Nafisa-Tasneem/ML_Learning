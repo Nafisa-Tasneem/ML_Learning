{
  "nbformat": 4,
  "nbformat_minor": 0,
  "metadata": {
    "colab": {
      "name": "Image processing using pillow in python _ learning.ipynb",
      "provenance": [],
      "authorship_tag": "ABX9TyMoQsoKklcbnscn6Fod8/QL",
      "include_colab_link": true
    },
    "kernelspec": {
      "name": "python3",
      "display_name": "Python 3"
    },
    "language_info": {
      "name": "python"
    }
  },
  "cells": [
    {
      "cell_type": "markdown",
      "metadata": {
        "id": "view-in-github",
        "colab_type": "text"
      },
      "source": [
        "<a href=\"https://colab.research.google.com/github/Nafisa-Tasneem/ML_Learning/blob/main/Image_processing_using_pillow_in_python___learning.ipynb\" target=\"_parent\"><img src=\"https://colab.research.google.com/assets/colab-badge.svg\" alt=\"Open In Colab\"/></a>"
      ]
    },
    {
      "cell_type": "markdown",
      "source": [
        "##This is a test for learning image processing using pillow library in **Python**"
      ],
      "metadata": {
        "id": "uI5wuTL-Jp9z"
      }
    },
    {
      "cell_type": "code",
      "source": [
        "from google.colab import drive\n",
        "drive.mount('/content/gdrive')"
      ],
      "metadata": {
        "colab": {
          "base_uri": "https://localhost:8080/"
        },
        "id": "GR__CeW0J9nZ",
        "outputId": "db095efb-2414-4fdd-97bb-35276ee379df"
      },
      "execution_count": 1,
      "outputs": [
        {
          "output_type": "stream",
          "name": "stdout",
          "text": [
            "Mounted at /content/gdrive\n"
          ]
        }
      ]
    },
    {
      "cell_type": "code",
      "source": [
        "from PIL import Image\n",
        "import glob"
      ],
      "metadata": {
        "id": "VrZWjhsiKYn6"
      },
      "execution_count": 13,
      "outputs": []
    },
    {
      "cell_type": "markdown",
      "source": [
        "##glob is used for finding the path of file. \n",
        "##os.path can also be used to find the path of file"
      ],
      "metadata": {
        "id": "TYGCHd3zTlOq"
      }
    },
    {
      "cell_type": "code",
      "source": [
        "path = \"/content/gdrive/MyDrive/test_flower_image/*.*\"\n"
      ],
      "metadata": {
        "id": "gozAY2SvK3ND"
      },
      "execution_count": 14,
      "outputs": []
    },
    {
      "cell_type": "code",
      "source": [
        "for file in glob.glob(path):\n",
        "  print(file)\n",
        "  a = Image.open(file)\n",
        "  rotated45 = a.rotate(45, expand = True)\n",
        "  rotated45.save(file+\"_rotated45\",'png')\n"
      ],
      "metadata": {
        "colab": {
          "base_uri": "https://localhost:8080/"
        },
        "id": "XaCy0h7lLBLW",
        "outputId": "9ecb72cd-1585-46ab-df34-9bdcb2f2699a"
      },
      "execution_count": 27,
      "outputs": [
        {
          "output_type": "stream",
          "name": "stdout",
          "text": [
            "/content/gdrive/MyDrive/test_flower_image/20180216_110409.jpg\n",
            "/content/gdrive/MyDrive/test_flower_image/20180216_110511.jpg\n",
            "/content/gdrive/MyDrive/test_flower_image/20180216_110550.jpg\n",
            "/content/gdrive/MyDrive/test_flower_image/20180216_110612.jpg\n",
            "/content/gdrive/MyDrive/test_flower_image/20180216_121410.jpg\n"
          ]
        }
      ]
    },
    {
      "cell_type": "markdown",
      "source": [
        "The rotated images are saved in png format"
      ],
      "metadata": {
        "id": "M5LVwI-CRlKI"
      }
    },
    {
      "cell_type": "code",
      "source": [
        "##resizing image"
      ],
      "metadata": {
        "id": "pmUu3XdhNwUO"
      },
      "execution_count": null,
      "outputs": []
    },
    {
      "cell_type": "code",
      "source": [
        "newsize = (300,300)\n",
        "for file in glob.glob(path):\n",
        "    # name = 1\n",
        "    a = Image.open(file)\n",
        "    resized1 = a.resize(newsize)\n",
        "    resized1.save(file +\"_resize\",'png')\n",
        "    # name +=1 "
      ],
      "metadata": {
        "id": "GLVvOP8FNwNu"
      },
      "execution_count": 31,
      "outputs": []
    },
    {
      "cell_type": "markdown",
      "source": [
        "### We can also use many other libraries for image processing"
      ],
      "metadata": {
        "id": "s7wUTB5ZUT4o"
      }
    },
    {
      "cell_type": "code",
      "source": [
        ""
      ],
      "metadata": {
        "id": "fBUrn3OFUlsz"
      },
      "execution_count": null,
      "outputs": []
    }
  ]
}